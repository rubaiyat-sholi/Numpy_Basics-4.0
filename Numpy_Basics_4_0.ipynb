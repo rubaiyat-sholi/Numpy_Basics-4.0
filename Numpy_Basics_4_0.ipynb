{
  "nbformat": 4,
  "nbformat_minor": 0,
  "metadata": {
    "colab": {
      "name": "Numpy_Basics-4.0.ipynb",
      "provenance": [],
      "authorship_tag": "ABX9TyPfBsIZMkCXGtqH4V3Q2DY4",
      "include_colab_link": true
    },
    "kernelspec": {
      "name": "python3",
      "display_name": "Python 3"
    },
    "language_info": {
      "name": "python"
    }
  },
  "cells": [
    {
      "cell_type": "markdown",
      "metadata": {
        "id": "view-in-github",
        "colab_type": "text"
      },
      "source": [
        "<a href=\"https://colab.research.google.com/github/rubaiyat-sholi/Numpy_Basics-4.0/blob/main/Numpy_Basics_4_0.ipynb\" target=\"_parent\"><img src=\"https://colab.research.google.com/assets/colab-badge.svg\" alt=\"Open In Colab\"/></a>"
      ]
    },
    {
      "cell_type": "markdown",
      "source": [
        "Problems"
      ],
      "metadata": {
        "id": "ix-TUAho1nMw"
      }
    },
    {
      "cell_type": "code",
      "execution_count": 5,
      "metadata": {
        "id": "NvPdhLbH1bq-"
      },
      "outputs": [],
      "source": [
        "# 76. Consider a one-dimensional array Z, build a two-dimensional array whose first row is (Z[0],Z[1],Z[2]) and each subsequent row is  shifted by 1 (last row should be (Z[-3],Z[-2],Z[-1])\n",
        "from numpy.lib import stride_tricks\n",
        "\n",
        "def rolling(a, window):\n",
        "    shape = (a.size - window + 1, window)\n",
        "    strides = (a.strides[0], a.strides[0])\n",
        "    return stride_tricks.as_strided(a, shape=shape, strides=strides)\n",
        "    Z = rolling(np.arange(10), 3)\n",
        "    print(Z)\n",
        "      \n",
        "    Z = np.arange(10)\n",
        "    print(sliding_window_view(Z, window_shape=3))\n",
        "\n"
      ]
    },
    {
      "cell_type": "code",
      "source": [
        "# 77. How to negate a boolean, or to change the sign of a float inplace?\n",
        "import numpy as np\n",
        "Z = np.random.randint(0,2,100)\n",
        "np.logical_not(Z, out=Z)\n",
        "\n",
        "Z = np.random.uniform(-1.0,1.0,100)\n",
        "np.negative(Z, out=Z)"
      ],
      "metadata": {
        "colab": {
          "base_uri": "https://localhost:8080/"
        },
        "id": "01hc8fma2NU5",
        "outputId": "e34dc62a-5573-4994-e3a4-68c669b87570"
      },
      "execution_count": 7,
      "outputs": [
        {
          "output_type": "execute_result",
          "data": {
            "text/plain": [
              "array([ 0.78208624, -0.31851182, -0.4370322 , -0.18188675, -0.57930273,\n",
              "        0.96232454,  0.66735176, -0.29540322, -0.9808393 ,  0.28871227,\n",
              "       -0.68755065, -0.60028547,  0.44907881, -0.75114324, -0.74353258,\n",
              "       -0.30429313,  0.3462888 ,  0.43697286,  0.01410286,  0.28017567,\n",
              "        0.13140411,  0.71227079, -0.06781064,  0.35150865,  0.92806246,\n",
              "        0.02102889, -0.29138052,  0.16537755,  0.68986886, -0.75981031,\n",
              "        0.18953258,  0.30752764,  0.51287622, -0.97133556, -0.77094714,\n",
              "        0.09996734,  0.07219088,  0.4700801 , -0.45719299, -0.55248301,\n",
              "        0.4715239 , -0.02361287, -0.72758108, -0.93557245, -0.83215603,\n",
              "       -0.61573102,  0.01892526,  0.60082043,  0.12808891,  0.39679352,\n",
              "        0.5057511 ,  0.41782216,  0.34638275, -0.99212161, -0.59971879,\n",
              "        0.69028339,  0.78612174,  0.98090134,  0.94753296,  0.75574298,\n",
              "       -0.975586  , -0.1065325 , -0.1922148 , -0.2759824 ,  0.40802022,\n",
              "       -0.11715005,  0.10812618, -0.72056036, -0.45971835, -0.62661137,\n",
              "       -0.05365173,  0.03134675, -0.31354254,  0.85300007,  0.65710465,\n",
              "       -0.52738436, -0.87317221,  0.03977612,  0.95762174, -0.98741248,\n",
              "        0.60723831,  0.65223688,  0.85526917, -0.88459527, -0.29501757,\n",
              "        0.67312782,  0.87279692,  0.94906754,  0.93503655, -0.64699599,\n",
              "       -0.79501661, -0.99157724, -0.42543159, -0.71598275, -0.03229913,\n",
              "       -0.62944732,  0.62558489, -0.33698401, -0.46021588, -0.78082359])"
            ]
          },
          "metadata": {},
          "execution_count": 7
        }
      ]
    },
    {
      "cell_type": "code",
      "source": [
        "# 78. Consider 2 sets of points P0,P1 describing lines (2d) and a point p, how to compute distance from p to each line i (P0[i],P1[i])?\n",
        "def distance(P0, P1, p):\n",
        "    T = P1 - P0\n",
        "    L = (T**2).sum(axis=1)\n",
        "    U = -((P0[:,0]-p[...,0])*T[:,0] + (P0[:,1]-p[...,1])*T[:,1]) / L\n",
        "    U = U.reshape(len(U),1)\n",
        "    D = P0 + U*T - p\n",
        "    return np.sqrt((D**2).sum(axis=1))\n",
        "\n",
        "P0 = np.random.uniform(-10,10,(10,2))\n",
        "P1 = np.random.uniform(-10,10,(10,2))\n",
        "p  = np.random.uniform(-10,10,( 1,2))\n",
        "print(distance(P0, P1, p))"
      ],
      "metadata": {
        "colab": {
          "base_uri": "https://localhost:8080/"
        },
        "id": "Z_pyF7Cv2aK_",
        "outputId": "af871d65-78be-4607-ea80-d9d659312187"
      },
      "execution_count": 8,
      "outputs": [
        {
          "output_type": "stream",
          "name": "stdout",
          "text": [
            "[ 4.49631188  8.53394553  9.42130809  4.90105912  4.99973368  1.250569\n",
            " 13.1772991  10.24544894 16.31530408  2.07696257]\n"
          ]
        }
      ]
    },
    {
      "cell_type": "code",
      "source": [
        "# 79. Consider 2 sets of points P0,P1 describing lines (2d) and a set of points P, how to compute distance from each point j (P[j]) to each line i (P0[i],P1[i])?\n",
        "P0 = np.random.uniform(-10, 10, (10,2))\n",
        "P1 = np.random.uniform(-10,10,(10,2))\n",
        "p = np.random.uniform(-10, 10, (10,2))\n",
        "print(np.array([distance(P0,P1,p_i) for p_i in p]))"
      ],
      "metadata": {
        "colab": {
          "base_uri": "https://localhost:8080/"
        },
        "id": "W29Z9u2i2iOX",
        "outputId": "6bdb5b79-54b3-4058-f26f-da97e6d76510"
      },
      "execution_count": 9,
      "outputs": [
        {
          "output_type": "stream",
          "name": "stdout",
          "text": [
            "[[18.0275703   1.14116377  0.72628803  2.20839177  4.0505771  10.20681841\n",
            "   7.36667827 15.92218287 10.31189689 11.61501343]\n",
            " [18.21543404  1.04429215  0.53985981  2.22536508  4.23297103 10.41140514\n",
            "   7.55548693 16.09636088 10.44676162 11.79599395]\n",
            " [11.26225227  4.56663332  0.38548192  6.09487706  5.48134025  4.66758135\n",
            "   0.65245052  8.54801522 14.50882266  4.51628062]\n",
            " [ 1.125975    8.05140901  2.26047113 14.2972168   3.21761278  4.63906699\n",
            "   9.45417884  1.89346286 15.80851314  5.79925809]\n",
            " [12.56864685  3.97384002  0.60425242  4.91756962  5.64813463  5.83848905\n",
            "   1.95369428  9.91095573 14.19987864  5.8548599 ]\n",
            " [ 4.03687927  9.52238776  0.60264177 14.00910659  6.01764828  1.47501299\n",
            "   6.52891117  0.80898104 17.86865208  2.99310989]\n",
            " [16.75305853  0.98262807  1.29693006  1.4109397   3.5227132   8.98102906\n",
            "   6.09330617 14.6427951  10.20002323 10.33563705]\n",
            " [ 6.6012675   7.53777434  0.33347604 11.01141444  5.63094814  0.66020154\n",
            "   3.98223261  3.58271874 16.45395743  0.3136506 ]\n",
            " [14.95987561  8.93871368  9.05964282  7.13019108  4.33431005  5.63031462\n",
            "   4.22602293 13.8225936   1.99037241  9.05260664]\n",
            " [ 9.01059989  3.15034833  2.06614196  6.08483578  3.07324853  2.16475381\n",
            "   1.61288952  6.4909693  12.6411283   2.36326002]]\n"
          ]
        }
      ]
    },
    {
      "cell_type": "code",
      "source": [
        "# 80. Consider an arbitrary array, write a function that extract a subpart with a fixed shape and centered on a given element (pad with a `fill` value when necessary)\n",
        "Z = np.random.randint(0,10,(10,10))\n",
        "shape = (5,5)\n",
        "fill  = 0\n",
        "position = (1,1)\n",
        "\n",
        "R = np.ones(shape, dtype=Z.dtype)*fill\n",
        "P  = np.array(list(position)).astype(int)\n",
        "Rs = np.array(list(R.shape)).astype(int)\n",
        "Zs = np.array(list(Z.shape)).astype(int)\n",
        "\n",
        "R_start = np.zeros((len(shape),)).astype(int)\n",
        "R_stop  = np.array(list(shape)).astype(int)\n",
        "Z_start = (P-Rs//2)\n",
        "Z_stop  = (P+Rs//2)+Rs%2\n",
        "\n",
        "R_start = (R_start - np.minimum(Z_start,0)).tolist()\n",
        "Z_start = (np.maximum(Z_start,0)).tolist()\n",
        "R_stop = np.maximum(R_start, (R_stop - np.maximum(Z_stop-Zs,0))).tolist()\n",
        "Z_stop = (np.minimum(Z_stop,Zs)).tolist()\n",
        "\n",
        "r = [slice(start,stop) for start,stop in zip(R_start,R_stop)]\n",
        "z = [slice(start,stop) for start,stop in zip(Z_start,Z_stop)]\n",
        "R[r] = Z[z]\n",
        "print(Z)\n",
        "print(R)"
      ],
      "metadata": {
        "colab": {
          "base_uri": "https://localhost:8080/"
        },
        "id": "WeNldBEU2pjg",
        "outputId": "1823b178-33de-48c9-8bc4-ec676bf49e9d"
      },
      "execution_count": 10,
      "outputs": [
        {
          "output_type": "stream",
          "name": "stdout",
          "text": [
            "[[5 0 4 8 4 1 4 3 3 3]\n",
            " [0 0 4 7 3 3 4 7 3 1]\n",
            " [6 5 1 0 6 8 4 6 8 3]\n",
            " [0 3 5 7 9 8 1 6 2 5]\n",
            " [1 6 5 5 6 2 8 3 5 6]\n",
            " [6 8 6 7 1 7 3 5 2 2]\n",
            " [5 3 8 5 9 6 6 1 3 1]\n",
            " [5 8 9 6 3 3 1 8 3 2]\n",
            " [0 3 0 9 1 7 6 6 1 5]\n",
            " [1 3 8 9 8 3 2 0 5 6]]\n",
            "[[0 0 0 0 0]\n",
            " [0 5 0 4 8]\n",
            " [0 0 0 4 7]\n",
            " [0 6 5 1 0]\n",
            " [0 0 3 5 7]]\n"
          ]
        },
        {
          "output_type": "stream",
          "name": "stderr",
          "text": [
            "/usr/local/lib/python3.7/dist-packages/ipykernel_launcher.py:24: FutureWarning: Using a non-tuple sequence for multidimensional indexing is deprecated; use `arr[tuple(seq)]` instead of `arr[seq]`. In the future this will be interpreted as an array index, `arr[np.array(seq)]`, which will result either in an error or a different result.\n"
          ]
        }
      ]
    },
    {
      "cell_type": "code",
      "source": [
        "# 81. Consider an array Z = [1,2,3,4,5,6,7,8,9,10,11,12,13,14], how to generate an array R = [[1,2,3,4], [2,3,4,5], [3,4,5,6], ..., [11,12,13,14]]?\n",
        "Z = np.arange(1,15,dtype=np.uint32)\n",
        "R = stride_tricks.as_strided(Z,(11,4),(4,4))\n",
        "print(R)\n"
      ],
      "metadata": {
        "colab": {
          "base_uri": "https://localhost:8080/"
        },
        "id": "5kmqOBid22Fx",
        "outputId": "876c3865-c8d2-4457-836a-afd6c55794e1"
      },
      "execution_count": 15,
      "outputs": [
        {
          "output_type": "stream",
          "name": "stdout",
          "text": [
            "[[ 1  2  3  4]\n",
            " [ 2  3  4  5]\n",
            " [ 3  4  5  6]\n",
            " [ 4  5  6  7]\n",
            " [ 5  6  7  8]\n",
            " [ 6  7  8  9]\n",
            " [ 7  8  9 10]\n",
            " [ 8  9 10 11]\n",
            " [ 9 10 11 12]\n",
            " [10 11 12 13]\n",
            " [11 12 13 14]]\n"
          ]
        }
      ]
    },
    {
      "cell_type": "code",
      "source": [
        "# 82. Compute a matrix rank\n",
        "Z = np.random.uniform(0,1,(10,10))\n",
        "U, S, V = np.linalg.svd(Z) # Singular Value Decomposition\n",
        "rank = np.sum(S > 1e-10)\n",
        "print(rank)\n",
        "\n",
        "# alternative solution:\n",
        "\n",
        "rank = np.linalg.matrix_rank(Z)\n",
        "print(rank)"
      ],
      "metadata": {
        "colab": {
          "base_uri": "https://localhost:8080/"
        },
        "id": "zJxZw_613Mam",
        "outputId": "2ba961e2-76dd-4aed-a6c5-b73db6756c23"
      },
      "execution_count": 16,
      "outputs": [
        {
          "output_type": "stream",
          "name": "stdout",
          "text": [
            "10\n",
            "10\n"
          ]
        }
      ]
    },
    {
      "cell_type": "code",
      "source": [
        "# 83. How to find the most frequent value in an array?\n",
        "Z = np.random.randint(0,10,50)\n",
        "print(np.bincount(Z).argmax())"
      ],
      "metadata": {
        "colab": {
          "base_uri": "https://localhost:8080/"
        },
        "id": "atUntQ-c3W4i",
        "outputId": "641ca1ad-d8a6-4e89-c6aa-69f48ea48c6e"
      },
      "execution_count": 17,
      "outputs": [
        {
          "output_type": "stream",
          "name": "stdout",
          "text": [
            "1\n"
          ]
        }
      ]
    },
    {
      "cell_type": "code",
      "source": [
        "# 84. Extract all the contiguous 3x3 blocks from a random 10x10 matrix\n",
        "Z = np.random.randint(0,5,(10,10))\n",
        "n = 3\n",
        "i = 1 + (Z.shape[0]-3)\n",
        "j = 1 + (Z.shape[1]-3)\n",
        "C = stride_tricks.as_strided(Z, shape=(i, j, n, n), strides=Z.strides + Z.strides)\n",
        "print(C)\n"
      ],
      "metadata": {
        "colab": {
          "base_uri": "https://localhost:8080/"
        },
        "id": "tzC8r_TL3dr6",
        "outputId": "e68b6f03-4f12-4dd6-e5af-5e39c91d67fe"
      },
      "execution_count": 20,
      "outputs": [
        {
          "output_type": "stream",
          "name": "stdout",
          "text": [
            "[[[[3 0 4]\n",
            "   [2 0 4]\n",
            "   [1 3 3]]\n",
            "\n",
            "  [[0 4 2]\n",
            "   [0 4 0]\n",
            "   [3 3 0]]\n",
            "\n",
            "  [[4 2 2]\n",
            "   [4 0 1]\n",
            "   [3 0 2]]\n",
            "\n",
            "  [[2 2 3]\n",
            "   [0 1 0]\n",
            "   [0 2 0]]\n",
            "\n",
            "  [[2 3 2]\n",
            "   [1 0 2]\n",
            "   [2 0 2]]\n",
            "\n",
            "  [[3 2 4]\n",
            "   [0 2 2]\n",
            "   [0 2 4]]\n",
            "\n",
            "  [[2 4 3]\n",
            "   [2 2 1]\n",
            "   [2 4 0]]\n",
            "\n",
            "  [[4 3 3]\n",
            "   [2 1 1]\n",
            "   [4 0 3]]]\n",
            "\n",
            "\n",
            " [[[2 0 4]\n",
            "   [1 3 3]\n",
            "   [0 3 4]]\n",
            "\n",
            "  [[0 4 0]\n",
            "   [3 3 0]\n",
            "   [3 4 3]]\n",
            "\n",
            "  [[4 0 1]\n",
            "   [3 0 2]\n",
            "   [4 3 1]]\n",
            "\n",
            "  [[0 1 0]\n",
            "   [0 2 0]\n",
            "   [3 1 0]]\n",
            "\n",
            "  [[1 0 2]\n",
            "   [2 0 2]\n",
            "   [1 0 4]]\n",
            "\n",
            "  [[0 2 2]\n",
            "   [0 2 4]\n",
            "   [0 4 1]]\n",
            "\n",
            "  [[2 2 1]\n",
            "   [2 4 0]\n",
            "   [4 1 1]]\n",
            "\n",
            "  [[2 1 1]\n",
            "   [4 0 3]\n",
            "   [1 1 1]]]\n",
            "\n",
            "\n",
            " [[[1 3 3]\n",
            "   [0 3 4]\n",
            "   [1 2 2]]\n",
            "\n",
            "  [[3 3 0]\n",
            "   [3 4 3]\n",
            "   [2 2 4]]\n",
            "\n",
            "  [[3 0 2]\n",
            "   [4 3 1]\n",
            "   [2 4 4]]\n",
            "\n",
            "  [[0 2 0]\n",
            "   [3 1 0]\n",
            "   [4 4 0]]\n",
            "\n",
            "  [[2 0 2]\n",
            "   [1 0 4]\n",
            "   [4 0 1]]\n",
            "\n",
            "  [[0 2 4]\n",
            "   [0 4 1]\n",
            "   [0 1 4]]\n",
            "\n",
            "  [[2 4 0]\n",
            "   [4 1 1]\n",
            "   [1 4 4]]\n",
            "\n",
            "  [[4 0 3]\n",
            "   [1 1 1]\n",
            "   [4 4 0]]]\n",
            "\n",
            "\n",
            " [[[0 3 4]\n",
            "   [1 2 2]\n",
            "   [4 1 2]]\n",
            "\n",
            "  [[3 4 3]\n",
            "   [2 2 4]\n",
            "   [1 2 0]]\n",
            "\n",
            "  [[4 3 1]\n",
            "   [2 4 4]\n",
            "   [2 0 2]]\n",
            "\n",
            "  [[3 1 0]\n",
            "   [4 4 0]\n",
            "   [0 2 0]]\n",
            "\n",
            "  [[1 0 4]\n",
            "   [4 0 1]\n",
            "   [2 0 4]]\n",
            "\n",
            "  [[0 4 1]\n",
            "   [0 1 4]\n",
            "   [0 4 4]]\n",
            "\n",
            "  [[4 1 1]\n",
            "   [1 4 4]\n",
            "   [4 4 2]]\n",
            "\n",
            "  [[1 1 1]\n",
            "   [4 4 0]\n",
            "   [4 2 1]]]\n",
            "\n",
            "\n",
            " [[[1 2 2]\n",
            "   [4 1 2]\n",
            "   [4 2 2]]\n",
            "\n",
            "  [[2 2 4]\n",
            "   [1 2 0]\n",
            "   [2 2 2]]\n",
            "\n",
            "  [[2 4 4]\n",
            "   [2 0 2]\n",
            "   [2 2 0]]\n",
            "\n",
            "  [[4 4 0]\n",
            "   [0 2 0]\n",
            "   [2 0 2]]\n",
            "\n",
            "  [[4 0 1]\n",
            "   [2 0 4]\n",
            "   [0 2 1]]\n",
            "\n",
            "  [[0 1 4]\n",
            "   [0 4 4]\n",
            "   [2 1 3]]\n",
            "\n",
            "  [[1 4 4]\n",
            "   [4 4 2]\n",
            "   [1 3 1]]\n",
            "\n",
            "  [[4 4 0]\n",
            "   [4 2 1]\n",
            "   [3 1 4]]]\n",
            "\n",
            "\n",
            " [[[4 1 2]\n",
            "   [4 2 2]\n",
            "   [4 1 3]]\n",
            "\n",
            "  [[1 2 0]\n",
            "   [2 2 2]\n",
            "   [1 3 0]]\n",
            "\n",
            "  [[2 0 2]\n",
            "   [2 2 0]\n",
            "   [3 0 1]]\n",
            "\n",
            "  [[0 2 0]\n",
            "   [2 0 2]\n",
            "   [0 1 2]]\n",
            "\n",
            "  [[2 0 4]\n",
            "   [0 2 1]\n",
            "   [1 2 3]]\n",
            "\n",
            "  [[0 4 4]\n",
            "   [2 1 3]\n",
            "   [2 3 4]]\n",
            "\n",
            "  [[4 4 2]\n",
            "   [1 3 1]\n",
            "   [3 4 4]]\n",
            "\n",
            "  [[4 2 1]\n",
            "   [3 1 4]\n",
            "   [4 4 1]]]\n",
            "\n",
            "\n",
            " [[[4 2 2]\n",
            "   [4 1 3]\n",
            "   [0 3 0]]\n",
            "\n",
            "  [[2 2 2]\n",
            "   [1 3 0]\n",
            "   [3 0 2]]\n",
            "\n",
            "  [[2 2 0]\n",
            "   [3 0 1]\n",
            "   [0 2 2]]\n",
            "\n",
            "  [[2 0 2]\n",
            "   [0 1 2]\n",
            "   [2 2 2]]\n",
            "\n",
            "  [[0 2 1]\n",
            "   [1 2 3]\n",
            "   [2 2 3]]\n",
            "\n",
            "  [[2 1 3]\n",
            "   [2 3 4]\n",
            "   [2 3 1]]\n",
            "\n",
            "  [[1 3 1]\n",
            "   [3 4 4]\n",
            "   [3 1 2]]\n",
            "\n",
            "  [[3 1 4]\n",
            "   [4 4 1]\n",
            "   [1 2 4]]]\n",
            "\n",
            "\n",
            " [[[4 1 3]\n",
            "   [0 3 0]\n",
            "   [0 4 1]]\n",
            "\n",
            "  [[1 3 0]\n",
            "   [3 0 2]\n",
            "   [4 1 0]]\n",
            "\n",
            "  [[3 0 1]\n",
            "   [0 2 2]\n",
            "   [1 0 4]]\n",
            "\n",
            "  [[0 1 2]\n",
            "   [2 2 2]\n",
            "   [0 4 3]]\n",
            "\n",
            "  [[1 2 3]\n",
            "   [2 2 3]\n",
            "   [4 3 3]]\n",
            "\n",
            "  [[2 3 4]\n",
            "   [2 3 1]\n",
            "   [3 3 4]]\n",
            "\n",
            "  [[3 4 4]\n",
            "   [3 1 2]\n",
            "   [3 4 1]]\n",
            "\n",
            "  [[4 4 1]\n",
            "   [1 2 4]\n",
            "   [4 1 0]]]]\n"
          ]
        }
      ]
    },
    {
      "cell_type": "code",
      "source": [
        "# 85. Create a 2D array subclass such that Z[i,j] == Z[j,i]\n",
        "class Symetric(np.ndarray):\n",
        "    def __setitem__(self, index, value):\n",
        "        i,j = index\n",
        "        super(Symetric, self).__setitem__((i,j), value)\n",
        "        super(Symetric, self).__setitem__((j,i), value)\n",
        "\n",
        "def symetric(Z):\n",
        "    return np.asarray(Z + Z.T - np.diag(Z.diagonal())).view(Symetric)\n",
        "\n",
        "S = symetric(np.random.randint(0,10,(5,5)))\n",
        "S[2,3] = 42\n",
        "print(S)"
      ],
      "metadata": {
        "colab": {
          "base_uri": "https://localhost:8080/"
        },
        "id": "Xmrx8F3s3yqD",
        "outputId": "06f8a712-028a-4763-e005-af7d19640748"
      },
      "execution_count": 21,
      "outputs": [
        {
          "output_type": "stream",
          "name": "stdout",
          "text": [
            "[[ 0 14 12 13  5]\n",
            " [14  7 10 16 11]\n",
            " [12 10  9 42  4]\n",
            " [13 16 42  3  9]\n",
            " [ 5 11  4  9  7]]\n"
          ]
        }
      ]
    },
    {
      "cell_type": "code",
      "source": [
        "# 86. Consider a set of p matrices wich shape (n,n) and a set of p vectors with shape (n,1). How to compute the sum of of the p matrix products at once? (result has shape (n,1))\n",
        "p, n = 10, 20\n",
        "M = np.ones((p,n,n))\n",
        "V = np.ones((p,n,1))\n",
        "S = np.tensordot(M, V, axes=[[0, 2], [0, 1]])\n",
        "print(S)"
      ],
      "metadata": {
        "colab": {
          "base_uri": "https://localhost:8080/"
        },
        "id": "w3Szd0jJ39Zk",
        "outputId": "8629e694-cd6a-4a86-df21-79a15533c078"
      },
      "execution_count": 22,
      "outputs": [
        {
          "output_type": "stream",
          "name": "stdout",
          "text": [
            "[[200.]\n",
            " [200.]\n",
            " [200.]\n",
            " [200.]\n",
            " [200.]\n",
            " [200.]\n",
            " [200.]\n",
            " [200.]\n",
            " [200.]\n",
            " [200.]\n",
            " [200.]\n",
            " [200.]\n",
            " [200.]\n",
            " [200.]\n",
            " [200.]\n",
            " [200.]\n",
            " [200.]\n",
            " [200.]\n",
            " [200.]\n",
            " [200.]]\n"
          ]
        }
      ]
    },
    {
      "cell_type": "code",
      "source": [
        "# 87. Consider a 16x16 array, how to get the block-sum (block size is 4x4)?\n",
        "Z = np.ones((16,16))\n",
        "k = 4\n",
        "S = np.add.reduceat(np.add.reduceat(Z, np.arange(0, Z.shape[0], k), axis=0),\n",
        "                                       np.arange(0, Z.shape[1], k), axis=1)\n",
        "print(S)"
      ],
      "metadata": {
        "colab": {
          "base_uri": "https://localhost:8080/"
        },
        "id": "W9JOw3IY4LW6",
        "outputId": "96a3687f-1583-4a95-bc6e-5e6deebd2db3"
      },
      "execution_count": 23,
      "outputs": [
        {
          "output_type": "stream",
          "name": "stdout",
          "text": [
            "[[16. 16. 16. 16.]\n",
            " [16. 16. 16. 16.]\n",
            " [16. 16. 16. 16.]\n",
            " [16. 16. 16. 16.]]\n"
          ]
        }
      ]
    },
    {
      "cell_type": "code",
      "source": [
        "# 88. How to implement the Game of Life using numpy arrays?\n",
        "def iterate(Z):\n",
        "    # Count neighbours\n",
        "    N = (Z[0:-2,0:-2] + Z[0:-2,1:-1] + Z[0:-2,2:] +\n",
        "         Z[1:-1,0:-2]                + Z[1:-1,2:] +\n",
        "         Z[2:  ,0:-2] + Z[2:  ,1:-1] + Z[2:  ,2:])\n",
        "\n",
        "    # Apply rules\n",
        "    birth = (N==3) & (Z[1:-1,1:-1]==0)\n",
        "    survive = ((N==2) | (N==3)) & (Z[1:-1,1:-1]==1)\n",
        "    Z[...] = 0\n",
        "    Z[1:-1,1:-1][birth | survive] = 1\n",
        "    return Z\n",
        "\n",
        "Z = np.random.randint(0,2,(50,50))\n",
        "for i in range(100): Z = iterate(Z)\n",
        "print(Z)"
      ],
      "metadata": {
        "colab": {
          "base_uri": "https://localhost:8080/"
        },
        "id": "Owtq-sOU4az1",
        "outputId": "a7b7d038-ea15-46a5-e179-fbf2864a0fcb"
      },
      "execution_count": 24,
      "outputs": [
        {
          "output_type": "stream",
          "name": "stdout",
          "text": [
            "[[0 0 0 ... 0 0 0]\n",
            " [0 0 0 ... 0 0 0]\n",
            " [0 0 0 ... 0 0 0]\n",
            " ...\n",
            " [0 0 0 ... 0 0 0]\n",
            " [0 0 0 ... 0 0 0]\n",
            " [0 0 0 ... 0 0 0]]\n"
          ]
        }
      ]
    },
    {
      "cell_type": "code",
      "source": [
        "# 89. How to get the n largest values of an array\n",
        "Z = np.arange(10000)\n",
        "np.random.shuffle(Z)\n",
        "n = 5\n",
        "\n",
        "# Slow\n",
        "print (Z[np.argsort(Z)[-n:]])\n",
        "\n",
        "# Fast\n",
        "print (Z[np.argpartition(-Z,n)[:n]])"
      ],
      "metadata": {
        "colab": {
          "base_uri": "https://localhost:8080/"
        },
        "id": "7jSV_lT-4lis",
        "outputId": "81917816-4b81-4557-a952-05522e9b1b12"
      },
      "execution_count": 25,
      "outputs": [
        {
          "output_type": "stream",
          "name": "stdout",
          "text": [
            "[9995 9996 9997 9998 9999]\n",
            "[9998 9997 9999 9996 9995]\n"
          ]
        }
      ]
    },
    {
      "cell_type": "code",
      "source": [
        "# 90. Given an arbitrary number of vectors, build the cartesian product (every combinations of every item)\n",
        "def cartesian(arrays):\n",
        "    arrays = [np.asarray(a) for a in arrays]\n",
        "    shape = (len(x) for x in arrays)\n",
        "\n",
        "    ix = np.indices(shape, dtype=int)\n",
        "    ix = ix.reshape(len(arrays), -1).T\n",
        "\n",
        "    for n, arr in enumerate(arrays):\n",
        "        ix[:, n] = arrays[n][ix[:, n]]\n",
        "\n",
        "    return ix\n",
        "\n",
        "print (cartesian(([1, 2, 3], [4, 5], [6, 7])))"
      ],
      "metadata": {
        "colab": {
          "base_uri": "https://localhost:8080/"
        },
        "id": "A_4Pm2eY4r2F",
        "outputId": "2131fb0b-0d1e-4939-b762-906aa04b6ed1"
      },
      "execution_count": 26,
      "outputs": [
        {
          "output_type": "stream",
          "name": "stdout",
          "text": [
            "[[1 4 6]\n",
            " [1 4 7]\n",
            " [1 5 6]\n",
            " [1 5 7]\n",
            " [2 4 6]\n",
            " [2 4 7]\n",
            " [2 5 6]\n",
            " [2 5 7]\n",
            " [3 4 6]\n",
            " [3 4 7]\n",
            " [3 5 6]\n",
            " [3 5 7]]\n"
          ]
        }
      ]
    },
    {
      "cell_type": "code",
      "source": [
        "# 91. How to create a record array from a regular array? \n",
        "Z = np.array([(\"Hello\", 2.5, 3),\n",
        "              (\"World\", 3.6, 2)])\n",
        "R = np.core.records.fromarrays(Z.T,\n",
        "                               names='col1, col2, col3',\n",
        "                               formats = 'S8, f8, i8')\n",
        "print(R)"
      ],
      "metadata": {
        "colab": {
          "base_uri": "https://localhost:8080/"
        },
        "id": "mM8OCbCd4yhL",
        "outputId": "5e919b13-127a-4c5f-f5d4-8a0816366695"
      },
      "execution_count": 27,
      "outputs": [
        {
          "output_type": "stream",
          "name": "stdout",
          "text": [
            "[(b'Hello', 2.5, 3) (b'World', 3.6, 2)]\n"
          ]
        }
      ]
    },
    {
      "cell_type": "code",
      "source": [
        "# 92. Consider a large vector Z, compute Z to the power of 3 using 3 different methods\n",
        "x = np.random.rand(int(5e7))\n",
        "\n",
        "%timeit np.power(x,3)\n",
        "%timeit x*x*x\n",
        "%timeit np.einsum('i,i,i->i',x,x,x)"
      ],
      "metadata": {
        "colab": {
          "base_uri": "https://localhost:8080/"
        },
        "id": "ztlisQTY43wG",
        "outputId": "f51de156-c6bf-4a72-b961-0093fb0bf5f7"
      },
      "execution_count": 29,
      "outputs": [
        {
          "output_type": "stream",
          "name": "stdout",
          "text": [
            "1 loop, best of 5: 3.76 s per loop\n",
            "10 loops, best of 5: 146 ms per loop\n",
            "10 loops, best of 5: 126 ms per loop\n"
          ]
        }
      ]
    },
    {
      "cell_type": "code",
      "source": [
        "# 93. Consider two arrays A and B of shape (8,3) and (2,2). How to find rows of A that contain elements of each row of B regardless of the order of the elements in B?\n",
        "A = np.random.randint(0,5,(8,3))\n",
        "B = np.random.randint(0,5,(2,2))\n",
        "\n",
        "C = (A[..., np.newaxis, np.newaxis] == B)\n",
        "rows = np.where(C.any((3,1)).all(1))[0]\n",
        "print(rows)"
      ],
      "metadata": {
        "colab": {
          "base_uri": "https://localhost:8080/"
        },
        "id": "ejh27YVy5FK2",
        "outputId": "52c9d5f4-56e4-4c95-fd79-8937199fa39e"
      },
      "execution_count": 31,
      "outputs": [
        {
          "output_type": "stream",
          "name": "stdout",
          "text": [
            "[1 2 6]\n"
          ]
        }
      ]
    },
    {
      "cell_type": "code",
      "source": [
        "# 94. Considering a 10x3 matrix, extract rows with unequal values (e.g. [2,2,3]) \n",
        "Z = np.random.randint(0,5,(10,3))\n",
        "print(Z)\n",
        "# solution for arrays of all dtypes (including string arrays and record arrays)\n",
        "E = np.all(Z[:,1:] == Z[:,:-1], axis=1)\n",
        "U = Z[~E]\n",
        "print(U)"
      ],
      "metadata": {
        "colab": {
          "base_uri": "https://localhost:8080/"
        },
        "id": "3uwvBNmO5UXY",
        "outputId": "a5a94986-1fcf-4f89-c267-058025862bf4"
      },
      "execution_count": 32,
      "outputs": [
        {
          "output_type": "stream",
          "name": "stdout",
          "text": [
            "[[2 4 2]\n",
            " [4 3 3]\n",
            " [0 1 4]\n",
            " [4 4 0]\n",
            " [3 0 2]\n",
            " [2 3 1]\n",
            " [4 2 0]\n",
            " [4 0 4]\n",
            " [0 0 3]\n",
            " [1 3 4]]\n",
            "[[2 4 2]\n",
            " [4 3 3]\n",
            " [0 1 4]\n",
            " [4 4 0]\n",
            " [3 0 2]\n",
            " [2 3 1]\n",
            " [4 2 0]\n",
            " [4 0 4]\n",
            " [0 0 3]\n",
            " [1 3 4]]\n"
          ]
        }
      ]
    },
    {
      "cell_type": "code",
      "source": [
        "# 95. Convert a vector of ints into a matrix binary representation\n",
        "I = np.array([0, 1, 2, 3, 15, 16, 32, 64, 128])\n",
        "B = ((I.reshape(-1,1) & (2**np.arange(8))) != 0).astype(int)\n",
        "print(B[:,::-1])\n"
      ],
      "metadata": {
        "colab": {
          "base_uri": "https://localhost:8080/"
        },
        "id": "Wls_ncao5b9V",
        "outputId": "c4ca86db-156a-4c0d-a88d-667790a2df98"
      },
      "execution_count": 33,
      "outputs": [
        {
          "output_type": "stream",
          "name": "stdout",
          "text": [
            "[[0 0 0 0 0 0 0 0]\n",
            " [0 0 0 0 0 0 0 1]\n",
            " [0 0 0 0 0 0 1 0]\n",
            " [0 0 0 0 0 0 1 1]\n",
            " [0 0 0 0 1 1 1 1]\n",
            " [0 0 0 1 0 0 0 0]\n",
            " [0 0 1 0 0 0 0 0]\n",
            " [0 1 0 0 0 0 0 0]\n",
            " [1 0 0 0 0 0 0 0]]\n"
          ]
        }
      ]
    },
    {
      "cell_type": "code",
      "source": [
        "# 96. Given a two dimensional array, how to extract unique rows?\n",
        "Z = np.random.randint(0,2,(6,3))\n",
        "T = np.ascontiguousarray(Z).view(np.dtype((np.void, Z.dtype.itemsize * Z.shape[1])))\n",
        "_, idx = np.unique(T, return_index=True)\n",
        "uZ = Z[idx]\n",
        "print(uZ)"
      ],
      "metadata": {
        "colab": {
          "base_uri": "https://localhost:8080/"
        },
        "id": "tdCkGVXJ5jCX",
        "outputId": "802fac31-bf6d-416c-e896-f3780c2d6b6c"
      },
      "execution_count": 34,
      "outputs": [
        {
          "output_type": "stream",
          "name": "stdout",
          "text": [
            "[[0 0 1]\n",
            " [1 0 0]\n",
            " [1 0 1]\n",
            " [1 1 0]]\n"
          ]
        }
      ]
    },
    {
      "cell_type": "code",
      "source": [
        "# 97. Considering 2 vectors A & B, write the einsum equivalent of inner, outer, sum, and mul function\n",
        "A = np.random.uniform(0,1,10)\n",
        "B = np.random.uniform(0,1,10)\n",
        "\n",
        "np.einsum('i->', A)       # np.sum(A)\n",
        "np.einsum('i,i->i', A, B) # A * B\n",
        "np.einsum('i,i', A, B)    # np.inner(A, B)\n",
        "np.einsum('i,j->ij', A, B)    # np.outer(A, B)"
      ],
      "metadata": {
        "colab": {
          "base_uri": "https://localhost:8080/"
        },
        "id": "-1Jd4de65q7O",
        "outputId": "effd806b-50f3-4195-ed1e-3d041a77bbb1"
      },
      "execution_count": 35,
      "outputs": [
        {
          "output_type": "execute_result",
          "data": {
            "text/plain": [
              "array([[0.24469133, 0.28091286, 0.29266274, 0.10898853, 0.03205606,\n",
              "        0.07818212, 0.29031069, 0.20572539, 0.34100902, 0.13191312],\n",
              "       [0.24356824, 0.27962353, 0.29131948, 0.10848829, 0.03190893,\n",
              "        0.07782328, 0.28897822, 0.20478115, 0.33944386, 0.13130766],\n",
              "       [0.01668733, 0.01915755, 0.01995886, 0.00743274, 0.00218614,\n",
              "        0.00533182, 0.01979845, 0.01402995, 0.02325595, 0.00899614],\n",
              "       [0.08367661, 0.09606321, 0.1000813 , 0.03727059, 0.01096215,\n",
              "        0.02673578, 0.09927697, 0.0703515 , 0.11661418, 0.04511007],\n",
              "       [0.5109625 , 0.58660002, 0.61113602, 0.22758898, 0.06693921,\n",
              "        0.16325928, 0.60622449, 0.42959413, 0.71209234, 0.27545993],\n",
              "       [0.42787019, 0.49120761, 0.51175358, 0.19057865, 0.05605361,\n",
              "        0.13671019, 0.50764076, 0.35973389, 0.59629247, 0.23066487],\n",
              "       [0.09519057, 0.10928158, 0.11385255, 0.04239905, 0.01247055,\n",
              "        0.03041465, 0.11293755, 0.08003192, 0.13266037, 0.05131725],\n",
              "       [0.38282588, 0.4394954 , 0.45787839, 0.17051536, 0.05015253,\n",
              "        0.12231793, 0.45419855, 0.32186266, 0.53351739, 0.20638147],\n",
              "       [0.16494146, 0.18935767, 0.19727802, 0.07346696, 0.02160834,\n",
              "        0.05270098, 0.19569255, 0.13867532, 0.22986727, 0.08891996],\n",
              "       [0.53414553, 0.61321483, 0.63886406, 0.23791499, 0.06997633,\n",
              "        0.17066657, 0.63372969, 0.44908538, 0.7444009 , 0.28795791]])"
            ]
          },
          "metadata": {},
          "execution_count": 35
        }
      ]
    },
    {
      "cell_type": "code",
      "source": [
        "# 98. Considering a path described by two vectors (X,Y), how to sample it using equidistant samples\n",
        "phi = np.arange(0, 10*np.pi, 0.1)\n",
        "a = 1\n",
        "x = a*phi*np.cos(phi)\n",
        "y = a*phi*np.sin(phi)\n",
        "\n",
        "dr = (np.diff(x)**2 + np.diff(y)**2)**.5 # segment lengths\n",
        "r = np.zeros_like(x)\n",
        "r[1:] = np.cumsum(dr)                # integrate path\n",
        "r_int = np.linspace(0, r.max(), 200) # regular spaced path\n",
        "x_int = np.interp(r_int, r, x)       # integrate path\n",
        "y_int = np.interp(r_int, r, y)"
      ],
      "metadata": {
        "id": "fRktHnkF5wvg"
      },
      "execution_count": 36,
      "outputs": []
    },
    {
      "cell_type": "code",
      "source": [
        "# 99. Given an integer n and a 2D array X, select from X the rows which can be interpreted as draws from a multinomial distribution with n degrees, i.e., the rows which only contain integers and which sum to n.\n",
        "X = np.asarray([[1.0, 0.0, 3.0, 8.0],\n",
        "                [2.0, 0.0, 1.0, 1.0],\n",
        "                [1.5, 2.5, 1.0, 0.0]])\n",
        "n = 4\n",
        "M = np.logical_and.reduce(np.mod(X, 1) == 0, axis=-1)\n",
        "M &= (X.sum(axis=-1) == n)\n",
        "print(X[M])"
      ],
      "metadata": {
        "colab": {
          "base_uri": "https://localhost:8080/"
        },
        "id": "L3MvVVXO52eQ",
        "outputId": "58159a84-23af-47df-f638-f9f771e79278"
      },
      "execution_count": 37,
      "outputs": [
        {
          "output_type": "stream",
          "name": "stdout",
          "text": [
            "[[2. 0. 1. 1.]]\n"
          ]
        }
      ]
    },
    {
      "cell_type": "code",
      "source": [
        "# 100. Compute bootstrapped 95% confidence intervals for the mean of a 1D array X (i.e., resample the elements of an array with replacement N times, compute the mean of each sample, and then compute percentiles over the means).\n",
        "X = np.random.randn(100) # random 1D array\n",
        "N = 1000 # number of bootstrap samples\n",
        "idx = np.random.randint(0, X.size, (N, X.size))\n",
        "means = X[idx].mean(axis=1)\n",
        "confint = np.percentile(means, [2.5, 97.5])\n",
        "print(confint)"
      ],
      "metadata": {
        "colab": {
          "base_uri": "https://localhost:8080/"
        },
        "id": "iWSHd2lx5-wf",
        "outputId": "11deb4d2-2822-46d1-96a3-dc40c1b2ba8b"
      },
      "execution_count": 38,
      "outputs": [
        {
          "output_type": "stream",
          "name": "stdout",
          "text": [
            "[-0.31204074  0.0089699 ]\n"
          ]
        }
      ]
    }
  ]
}